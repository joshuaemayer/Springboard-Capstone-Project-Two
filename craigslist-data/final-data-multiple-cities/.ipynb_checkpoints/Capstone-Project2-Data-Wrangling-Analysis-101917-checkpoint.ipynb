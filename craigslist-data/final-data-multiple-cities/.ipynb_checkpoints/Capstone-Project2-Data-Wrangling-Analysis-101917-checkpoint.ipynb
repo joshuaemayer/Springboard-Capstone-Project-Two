{
 "cells": [
  {
   "cell_type": "markdown",
   "metadata": {},
   "source": [
    "# Capstone Project 2 - Data Wrangling & Analysis"
   ]
  },
  {
   "cell_type": "code",
   "execution_count": 1,
   "metadata": {
    "collapsed": false
   },
   "outputs": [],
   "source": [
    "import pandas as pd #for building pandas dataframes for analysis\n",
    "import re #for parsing file names\n",
    "import glob, os #for reading file names\n",
    "import datetime # for tracking API call counts\n",
    "import numpy as np\n",
    "import nltk # for interpretation of text and text analysis\n",
    "from nltk.corpus import stopwords # Import the stop word list\n",
    "from sklearn.feature_extraction.text import CountVectorizer #for bag of words analysis\n",
    "import seaborn as sns #for cool visualizations\n",
    "import matplotlib.pyplot as plt #for visualizations\n",
    "%matplotlib inline"
   ]
  },
  {
   "cell_type": "markdown",
   "metadata": {},
   "source": [
    "Data was scraped from the Denver, Boulder, Colorado Springs, and Fort Collins Craigslist sites via the Python package “Scrapy” which was initially built to scrape Craigslist sites for job postings and is easily modifiable to handle other Craigslist categories.\n"
   ]
  },
  {
   "cell_type": "code",
   "execution_count": 2,
   "metadata": {
    "collapsed": true
   },
   "outputs": [],
   "source": [
    "#Reading all necessary CSV files from Scrapy in the DIR\n",
    "file_names = []\n",
    "file_names = glob.glob('*.csv')"
   ]
  },
  {
   "cell_type": "code",
   "execution_count": 3,
   "metadata": {
    "collapsed": false
   },
   "outputs": [
    {
     "name": "stdout",
     "output_type": "stream",
     "text": [
      "['bouldertest0.csv', 'bouldertest1.csv', 'bouldertest2.csv', 'bouldertest3.csv', 'bouldertest4.csv', 'bouldertest5.csv', 'bouldertest6.csv', 'cospringstest0.csv', 'cospringstest1.csv', 'cospringstest2.csv', 'cospringstest3.csv', 'cospringstest4.csv', 'cospringstest5.csv', 'fortcollinstest0.csv', 'fortcollinstest1.csv', 'fortcollinstest2.csv', 'fortcollinstest3.csv', 'fortcollinstest4.csv', 'fortcollinstest5.csv', 'test0.csv', 'test1.csv', 'test10.csv', 'test11.csv', 'test12.csv', 'test13.csv', 'test14.csv', 'test15.csv', 'test16.csv', 'test17.csv', 'test18.csv', 'test19.csv', 'test2.csv', 'test3.csv', 'test4.csv', 'test5.csv', 'test6.csv', 'test7.csv', 'test8.csv', 'test9.csv']\n"
     ]
    }
   ],
   "source": [
    "#Verify that file names loaded correctly\n",
    "print(file_names)"
   ]
  },
  {
   "cell_type": "code",
   "execution_count": 4,
   "metadata": {
    "collapsed": false
   },
   "outputs": [
    {
     "name": "stdout",
     "output_type": "stream",
     "text": [
      "bouldertest0.csv\n",
      "bouldertest1.csv\n",
      "bouldertest2.csv\n",
      "bouldertest3.csv\n",
      "bouldertest4.csv\n",
      "bouldertest5.csv\n",
      "bouldertest6.csv\n",
      "cospringstest0.csv\n",
      "cospringstest1.csv\n",
      "cospringstest2.csv\n",
      "cospringstest3.csv\n",
      "cospringstest4.csv\n",
      "cospringstest5.csv\n",
      "fortcollinstest0.csv\n",
      "fortcollinstest1.csv\n",
      "fortcollinstest2.csv\n",
      "fortcollinstest3.csv\n",
      "fortcollinstest4.csv\n",
      "fortcollinstest5.csv\n",
      "test0.csv\n",
      "test1.csv\n",
      "test10.csv\n",
      "test11.csv\n",
      "test12.csv\n",
      "test13.csv\n",
      "test14.csv\n",
      "test15.csv\n",
      "test16.csv\n",
      "test17.csv\n",
      "test18.csv\n",
      "test19.csv\n",
      "test2.csv\n",
      "test3.csv\n",
      "test4.csv\n",
      "test5.csv\n",
      "test6.csv\n",
      "test7.csv\n",
      "test8.csv\n",
      "test9.csv\n",
      "DONE LOADING FILES\n"
     ]
    }
   ],
   "source": [
    "#Creating a dataframe from all of the CSV files\n",
    "counter = 0\n",
    "for file in file_names :\n",
    "    print(file)\n",
    "    if counter == 0 :\n",
    "        temp_df = pd.read_csv(file, index_col=False)\n",
    "        #print('Initial temp_df')\n",
    "    if counter > 0 :\n",
    "        temp_df1 = pd.read_csv(file, index_col=False)\n",
    "        temp_df = temp_df.append(temp_df1)\n",
    "    counter += 1\n",
    "print('DONE LOADING FILES')"
   ]
  },
  {
   "cell_type": "code",
   "execution_count": 5,
   "metadata": {
    "collapsed": false
   },
   "outputs": [
    {
     "name": "stdout",
     "output_type": "stream",
     "text": [
      "<class 'pandas.core.frame.DataFrame'>\n",
      "Int64Index: 4060 entries, 0 to 119\n",
      "Data columns (total 2 columns):\n",
      "titles       4060 non-null object\n",
      "timestamp    4060 non-null object\n",
      "dtypes: object(2)\n",
      "memory usage: 95.2+ KB\n"
     ]
    }
   ],
   "source": [
    "temp_df.info()"
   ]
  },
  {
   "cell_type": "code",
   "execution_count": 6,
   "metadata": {
    "collapsed": false
   },
   "outputs": [
    {
     "data": {
      "text/plain": [
       "(4060, 2)"
      ]
     },
     "execution_count": 6,
     "metadata": {},
     "output_type": "execute_result"
    }
   ],
   "source": [
    "temp_df.shape"
   ]
  },
  {
   "cell_type": "markdown",
   "metadata": {},
   "source": [
    "## Data Wrangling"
   ]
  },
  {
   "cell_type": "markdown",
   "metadata": {},
   "source": [
    "Steps required to cleanse and modify the data into a necessary format for analysis. \n",
    "\n",
    "1.\tReset the index of the final data frame since multiple CSV files were loaded with records having the same index numbers. \n",
    "2.\tDrop duplicate records which removed 5 records.  I removed only duplicates that matched title and timestamp.  I also considered removing duplicates where ONLY the title matched but found that these were primarily different listings (e.g. microwave). \n",
    "3.\tConversion of columns to proper types. ‘titles’ to string and ‘timestamp’ to an an actual timestamp object.\n",
    "4.\tConvert all words to lowercase for future analysis. \n",
    "5.\tRemove all characters and numbers. \n",
    "6.\tRemove all stop words.  Leverage NLTK ‘stopwords’ as the basis for the list. Add the word ‘free’ for this analysis since almost all of the listing titles are for free items. Parse each word in the titles list and if in the stop words list then remove, otherwise keep in the final list of titles to analyze.\n"
   ]
  },
  {
   "cell_type": "code",
   "execution_count": 7,
   "metadata": {
    "collapsed": true
   },
   "outputs": [],
   "source": [
    "#1 reset index so that we do not have issues since we loaded multiple files \n",
    "temp_df = temp_df.reset_index()[['titles', 'timestamp']]"
   ]
  },
  {
   "cell_type": "code",
   "execution_count": 8,
   "metadata": {
    "collapsed": false
   },
   "outputs": [],
   "source": [
    "#2 drop duplicate records\n",
    "temp_df2 = temp_df.drop_duplicates()"
   ]
  },
  {
   "cell_type": "code",
   "execution_count": 9,
   "metadata": {
    "collapsed": false
   },
   "outputs": [
    {
     "data": {
      "text/plain": [
       "(3927, 2)"
      ]
     },
     "execution_count": 9,
     "metadata": {},
     "output_type": "execute_result"
    }
   ],
   "source": [
    "# confirm records were dropped\n",
    "temp_df2.shape"
   ]
  },
  {
   "cell_type": "code",
   "execution_count": 10,
   "metadata": {
    "collapsed": false
   },
   "outputs": [
    {
     "name": "stdout",
     "output_type": "stream",
     "text": [
      "<class 'pandas.core.frame.DataFrame'>\n",
      "Int64Index: 3927 entries, 0 to 4059\n",
      "Data columns (total 2 columns):\n",
      "titles       3927 non-null object\n",
      "timestamp    3927 non-null object\n",
      "dtypes: object(2)\n",
      "memory usage: 92.0+ KB\n"
     ]
    }
   ],
   "source": [
    "temp_df2.info()"
   ]
  },
  {
   "cell_type": "code",
   "execution_count": 11,
   "metadata": {
    "collapsed": false
   },
   "outputs": [
    {
     "name": "stderr",
     "output_type": "stream",
     "text": [
      "/Users/joshuaemayer/anaconda/envs/python3/lib/python3.6/site-packages/ipykernel_launcher.py:2: SettingWithCopyWarning: \n",
      "A value is trying to be set on a copy of a slice from a DataFrame.\n",
      "Try using .loc[row_indexer,col_indexer] = value instead\n",
      "\n",
      "See the caveats in the documentation: http://pandas.pydata.org/pandas-docs/stable/indexing.html#indexing-view-versus-copy\n",
      "  \n"
     ]
    }
   ],
   "source": [
    "#3a Conversion of columns to proper types. ‘titles’ to string and ‘timestamp’ to an an actual timestamp object.\n",
    "temp_df2['timestamp'] = pd.to_datetime(temp_df2['timestamp'],infer_datetime_format=True)"
   ]
  },
  {
   "cell_type": "code",
   "execution_count": 12,
   "metadata": {
    "collapsed": false
   },
   "outputs": [
    {
     "data": {
      "text/html": [
       "<div>\n",
       "<table border=\"1\" class=\"dataframe\">\n",
       "  <thead>\n",
       "    <tr style=\"text-align: right;\">\n",
       "      <th></th>\n",
       "      <th>titles</th>\n",
       "      <th>timestamp</th>\n",
       "    </tr>\n",
       "  </thead>\n",
       "  <tbody>\n",
       "    <tr>\n",
       "      <th>1659</th>\n",
       "      <td>SHATTER WARNING</td>\n",
       "      <td>2017-03-13 14:21:00</td>\n",
       "    </tr>\n",
       "    <tr>\n",
       "      <th>3099</th>\n",
       "      <td>free dirt + sod/turf</td>\n",
       "      <td>2017-08-24 19:44:00</td>\n",
       "    </tr>\n",
       "    <tr>\n",
       "      <th>3098</th>\n",
       "      <td>Free couch</td>\n",
       "      <td>2017-08-24 20:24:00</td>\n",
       "    </tr>\n",
       "    <tr>\n",
       "      <th>3097</th>\n",
       "      <td>Spalding basketball hoop</td>\n",
       "      <td>2017-08-24 21:23:00</td>\n",
       "    </tr>\n",
       "    <tr>\n",
       "      <th>3096</th>\n",
       "      <td>Rocks</td>\n",
       "      <td>2017-08-24 21:38:00</td>\n",
       "    </tr>\n",
       "  </tbody>\n",
       "</table>\n",
       "</div>"
      ],
      "text/plain": [
       "                        titles           timestamp\n",
       "1659           SHATTER WARNING 2017-03-13 14:21:00\n",
       "3099      free dirt + sod/turf 2017-08-24 19:44:00\n",
       "3098                Free couch 2017-08-24 20:24:00\n",
       "3097  Spalding basketball hoop 2017-08-24 21:23:00\n",
       "3096                     Rocks 2017-08-24 21:38:00"
      ]
     },
     "execution_count": 12,
     "metadata": {},
     "output_type": "execute_result"
    }
   ],
   "source": [
    "temp_df2.sort_values(by='timestamp', ascending=True).head()"
   ]
  },
  {
   "cell_type": "code",
   "execution_count": 13,
   "metadata": {
    "collapsed": false
   },
   "outputs": [
    {
     "data": {
      "text/html": [
       "<div>\n",
       "<table border=\"1\" class=\"dataframe\">\n",
       "  <thead>\n",
       "    <tr style=\"text-align: right;\">\n",
       "      <th></th>\n",
       "      <th>titles</th>\n",
       "      <th>timestamp</th>\n",
       "    </tr>\n",
       "  </thead>\n",
       "  <tbody>\n",
       "    <tr>\n",
       "      <th>638</th>\n",
       "      <td>Free moving boxes</td>\n",
       "      <td>2017-11-05 13:00:00</td>\n",
       "    </tr>\n",
       "    <tr>\n",
       "      <th>639</th>\n",
       "      <td>Utility sink curb alert</td>\n",
       "      <td>2017-11-05 12:55:00</td>\n",
       "    </tr>\n",
       "    <tr>\n",
       "      <th>640</th>\n",
       "      <td>Scrap metal</td>\n",
       "      <td>2017-11-05 12:46:00</td>\n",
       "    </tr>\n",
       "    <tr>\n",
       "      <th>641</th>\n",
       "      <td>Chair</td>\n",
       "      <td>2017-11-05 12:45:00</td>\n",
       "    </tr>\n",
       "    <tr>\n",
       "      <th>642</th>\n",
       "      <td>Charboil gas grill</td>\n",
       "      <td>2017-11-05 12:44:00</td>\n",
       "    </tr>\n",
       "  </tbody>\n",
       "</table>\n",
       "</div>"
      ],
      "text/plain": [
       "                      titles           timestamp\n",
       "638        Free moving boxes 2017-11-05 13:00:00\n",
       "639  Utility sink curb alert 2017-11-05 12:55:00\n",
       "640              Scrap metal 2017-11-05 12:46:00\n",
       "641                    Chair 2017-11-05 12:45:00\n",
       "642       Charboil gas grill 2017-11-05 12:44:00"
      ]
     },
     "execution_count": 13,
     "metadata": {},
     "output_type": "execute_result"
    }
   ],
   "source": [
    "temp_df2.sort_values(by='timestamp', ascending=False).head()"
   ]
  },
  {
   "cell_type": "code",
   "execution_count": 14,
   "metadata": {
    "collapsed": false
   },
   "outputs": [
    {
     "data": {
      "text/plain": [
       "Timedelta('236 days 22:39:00')"
      ]
     },
     "execution_count": 14,
     "metadata": {},
     "output_type": "execute_result"
    }
   ],
   "source": [
    "#Understanding the total amount of time for the postings\n",
    "temp_df2['timestamp'].max() - temp_df2['timestamp'].min()"
   ]
  },
  {
   "cell_type": "code",
   "execution_count": 15,
   "metadata": {
    "collapsed": false
   },
   "outputs": [
    {
     "name": "stderr",
     "output_type": "stream",
     "text": [
      "/Users/joshuaemayer/anaconda/envs/python3/lib/python3.6/site-packages/ipykernel_launcher.py:2: SettingWithCopyWarning: \n",
      "A value is trying to be set on a copy of a slice from a DataFrame.\n",
      "Try using .loc[row_indexer,col_indexer] = value instead\n",
      "\n",
      "See the caveats in the documentation: http://pandas.pydata.org/pandas-docs/stable/indexing.html#indexing-view-versus-copy\n",
      "  \n"
     ]
    }
   ],
   "source": [
    "#3b Conversion of columns to proper types. ‘titles’ to string and ‘timestamp’ to an an actual timestamp object.\n",
    "temp_df2['titles'] = temp_df2['titles'].astype(str)"
   ]
  },
  {
   "cell_type": "code",
   "execution_count": 16,
   "metadata": {
    "collapsed": false
   },
   "outputs": [
    {
     "name": "stderr",
     "output_type": "stream",
     "text": [
      "/Users/joshuaemayer/anaconda/envs/python3/lib/python3.6/site-packages/ipykernel_launcher.py:2: SettingWithCopyWarning: \n",
      "A value is trying to be set on a copy of a slice from a DataFrame.\n",
      "Try using .loc[row_indexer,col_indexer] = value instead\n",
      "\n",
      "See the caveats in the documentation: http://pandas.pydata.org/pandas-docs/stable/indexing.html#indexing-view-versus-copy\n",
      "  \n"
     ]
    }
   ],
   "source": [
    "#4 convert all characters to lower case\n",
    "temp_df2['titles'] = temp_df2['titles'].str.lower()"
   ]
  },
  {
   "cell_type": "code",
   "execution_count": 17,
   "metadata": {
    "collapsed": false
   },
   "outputs": [],
   "source": [
    "#Convert titles to a list for further scrubbing\n",
    "titles_list = temp_df2['titles'].tolist()"
   ]
  },
  {
   "cell_type": "code",
   "execution_count": 18,
   "metadata": {
    "collapsed": false
   },
   "outputs": [],
   "source": [
    "#5 Filtering out all of the random characters\n",
    "final_titles_list = []\n",
    "for title in titles_list :\n",
    "    title = re.sub('[^a-zA-Z]', ' ', title)\n",
    "    #print(title)\n",
    "    final_titles_list.append(title)"
   ]
  },
  {
   "cell_type": "code",
   "execution_count": 19,
   "metadata": {
    "collapsed": false
   },
   "outputs": [
    {
     "data": {
      "text/plain": [
       "['drywall sheet and mdf panel brand new',\n",
       " 'fireplace surround   oak',\n",
       " 'home made   step height wheel chair ramp',\n",
       " 'moving boxes',\n",
       " 'recliner chair',\n",
       " 'jenn air ice cube dispenser tray',\n",
       " 'desk',\n",
       " 'full mattress',\n",
       " 'sofas',\n",
       " 'baby bouncer',\n",
       " 'free steel tiki torches and patio mister',\n",
       " 'diaper bag',\n",
       " 'gardener curb alert',\n",
       " 'free black bookshelf',\n",
       " 'free  moving boxes and packing paper',\n",
       " 'pallets',\n",
       " 'breast pump',\n",
       " 'speakers free',\n",
       " 'boys clothing',\n",
       " 'posts in buckets of concrete',\n",
       " 'light fixture  incomplete  i think ',\n",
       " 'free  kids twin bedframe',\n",
       " 'two wooden beams',\n",
       " 'free',\n",
       " 'misc  free stuff',\n",
       " 'old stairs',\n",
       " 'free moving boxes and wrapping',\n",
       " 'xb ',\n",
       " 'queen size cherry sleigh bed with slants',\n",
       " 'free dresser',\n",
       " 'free black dresser',\n",
       " 'free nightstand',\n",
       " 'little girl',\n",
       " 'premier natural aged horse manure',\n",
       " 'free   x   pallet with sides',\n",
       " 'treadmill pro form     ekg',\n",
       " 'non working dvd player',\n",
       " 'fluorescent box light',\n",
       " 'pinewood derby style car ramp',\n",
       " 'free alfa romeo parts',\n",
       " 'free box spring    singles     king  never used',\n",
       " 'the mountain astrologer magazines',\n",
       " 'directv dish with hanging bracket',\n",
       " 'twin box spring',\n",
       " 'dining room table hide a bed love seat',\n",
       " 'bent metal shelving unit  free scrap metal',\n",
       " 'free storage cabinet',\n",
       " 'queen size box spring and metal frame',\n",
       " 'free desk at curb',\n",
       " 'twin mattreses',\n",
       " 'antique chair needs tlc',\n",
       " '  working toilets',\n",
       " 'clothes washer   free',\n",
       " 'used metal landscape edging',\n",
       " 'free clothes  wood  lamps  coffee bean sacks  paint and stain   ',\n",
       " 'kitchen sink basin  faucet  and sprayer',\n",
       " 'post garage sale cool stuff  free ',\n",
       " 'flagstone rock wall rocks',\n",
       " 'truck box',\n",
       " 'curb alert',\n",
       " 'free pallets',\n",
       " 'free steel  deck railings  or use for scrap purposes',\n",
       " 'children and household items   all is great shape',\n",
       " 'king soopers survey',\n",
       " 'sturdy base for volleyball badminton net  tether ball  flag pole',\n",
       " 'misc growing equipment   free',\n",
       " 'large aquarium terrarium for free',\n",
       " 'charcoal grill',\n",
       " 'free     toshiba tv you haul it',\n",
       " 'free electric range and oven',\n",
       " 'sliding glass door and frame',\n",
       " 'free rocks',\n",
       " '    white bath cabinet',\n",
       " 'bale tie string',\n",
       " '   gallon fish tank  cracked   good for a terrarium',\n",
       " 'wood and metal for salvage  re purpose',\n",
       " 'free florescent shop light',\n",
       " 'queen sofa sleeper with ottoman',\n",
       " 'free cabinets',\n",
       " '    console tv',\n",
       " 'free firewood',\n",
       " 'free   couch  electronics  printers  etc ',\n",
       " 'honeywell digital programable thermostat',\n",
       " 'king size mattress and box springs',\n",
       " 'tv dvd combo',\n",
       " '   free wood     must pickup today or tomorrow   x  s   x  s  plywood',\n",
       " 'fill dirt',\n",
       " 'queen mattress   scrap metal',\n",
       " 'new metal futon frame   free',\n",
       " 'free landscape rock',\n",
       " ' x   shed  pending',\n",
       " 'wood pallet and queen size box frame',\n",
       " 'free stuff   longmont   list keeps updating as i sort',\n",
       " 'nightstand',\n",
       " 'free firewood  very dry elms you cut up ',\n",
       " 'free cd racks     pending pick up',\n",
       " 'free sodastream mywater   flavoring for carbonated water',\n",
       " 'free sleeper couch and queen bed',\n",
       " 'pending pick up  boppy breastfeeding pillow',\n",
       " 'sony tv',\n",
       " 'bathroom vanity and counter top',\n",
       " 'birdsong identiflyer electronic bird call  needs fixing      cards',\n",
       " 'free couch',\n",
       " '    pieces bevelled glass',\n",
       " 'free home depot cart',\n",
       " 'free futon   good shape',\n",
       " 'free couch',\n",
       " 'free fire wood',\n",
       " '  free ikea malm pull out understorage units ',\n",
       " 'direct tv satellite dish',\n",
       " 'new dryer drum belt   pt  no            ',\n",
       " 'free yard swing seat frame',\n",
       " 'high end mitzubishi tv',\n",
       " 'free toys  ',\n",
       " 'moving boxes and packing supplies',\n",
       " 'office closing    items must be picked up by     pm today',\n",
       " 'free king size mattress',\n",
       " 'kitten collar   still available',\n",
       " 'electric stove',\n",
       " 'patio recliner',\n",
       " 'free scrap metal   kettle and scales     ',\n",
       " 'picture frame moving box',\n",
       " 'free pallets',\n",
       " 'queen sleeper sofa and love seat',\n",
       " 'free couch',\n",
       " 'free love seat couch for salvage',\n",
       " 'computer and gym bag',\n",
       " 'baby toddler swim floaties',\n",
       " 'office chair',\n",
       " 'desk solid wood with file drawer and pull out keyboard tray',\n",
       " 'bright orange armoire ',\n",
       " 'leatherette platform bed frame   queen',\n",
       " 'patio chairs',\n",
       " 'free firewood',\n",
       " 'sofa  loveseat  and recliner  all power recline',\n",
       " 'free delivered fill dirt',\n",
       " 'free filing cabinets',\n",
       " 'graco baby bumper jumper   free',\n",
       " 'couch on lawn',\n",
       " 'electric stove',\n",
       " 'moving boxes',\n",
       " 'salomon ski racing boot  shell only',\n",
       " 'hunting videos',\n",
       " 'twin bed frame   two mattresses',\n",
       " 'two thule fork mount bike rack trays',\n",
       " 'large wooden crate for shipping',\n",
       " 'full sized mattress',\n",
       " 'free   cabinet',\n",
       " 'wooden dog house  ',\n",
       " 'lane recliner free',\n",
       " 'coffee table tv stand',\n",
       " '    storm door',\n",
       " 'free landscape rock',\n",
       " 'free costumes for your medium dog',\n",
       " 'loveseat',\n",
       " 'moving everything must go',\n",
       " 'boxer mix',\n",
       " 'cabinets   doors',\n",
       " 'free small computer desk',\n",
       " 'free scrap metal      s refrigerator   metal cabinet',\n",
       " 'sectional and recliner',\n",
       " 'kombucha scobys',\n",
       " 'free   glow ball connectors for glow bracelets',\n",
       " 'basket ball hoop   pallet',\n",
       " 'armoire',\n",
       " 'free tutoring',\n",
       " 'household items  bikes and misc ',\n",
       " 'cedar trunk   free',\n",
       " 'body glide for runners',\n",
       " 'small computer desk',\n",
       " 'sweet couch',\n",
       " 'curb alert   maple flooring scraps',\n",
       " 'flower pattern chair',\n",
       " 'curb alert   free stuff',\n",
       " 'blue armchair',\n",
       " 'boxes',\n",
       " 'free ge dishwasher ',\n",
       " 'patio table   free ',\n",
       " 'grill master      free',\n",
       " 'dell monitor',\n",
       " 'cleaning my house',\n",
       " 'heavy duty office filing cabinets',\n",
       " 'dishwasher free',\n",
       " 'free couch  ',\n",
       " 'free firewood',\n",
       " 'upright grand piano',\n",
       " 'free large bird feeder',\n",
       " 'wood   x s   x s   x s   x s',\n",
       " 'carbonator   soda machine',\n",
       " 'baymax stuffed animal',\n",
       " 'free couch set',\n",
       " 'travel stroller   kolcroft cloud plus',\n",
       " 'background paper     x    yards',\n",
       " 'free professionally built pallet  great condition wood ',\n",
       " 'wood futon and matress for free',\n",
       " 'wooden desk needs gone now last chance',\n",
       " 'free     glass shower door for stall shower',\n",
       " 'free wood siding with wavy edge       thick',\n",
       " 'free cherry amoire',\n",
       " 'free wood chips',\n",
       " 'free river rock in backyard',\n",
       " 'free driveway pickup   sofa',\n",
       " 'free moving boxes',\n",
       " 'palettes and crates great condition wood',\n",
       " 'free desk with drawers',\n",
       " 'printing calculator and paper rolls',\n",
       " 'commercial bakery hobart   qt mixer wire bowl guard',\n",
       " 'car trunk support arms for art or robot costume',\n",
       " 'firewood',\n",
       " '  free non working tv s   please pick up',\n",
       " 'bookcase gardening shelf unit',\n",
       " 'graco play yard',\n",
       " 'free wrought iron wooden bench',\n",
       " 'free hardwood flooring it is great for burning or whatever',\n",
       " 'desk chairs free',\n",
       " 'in need of plants and trees',\n",
       " 'old vented freezer',\n",
       " 'bi fold closet doors or scrap metal',\n",
       " 'bunny free to good home',\n",
       " 'free dirt',\n",
       " 'free wood  looking for wood dump',\n",
       " 'large willow',\n",
       " 'tanyosho pine tree',\n",
       " 'free tarps',\n",
       " 'free electronics  computers  monitors  etc  ',\n",
       " 'free tarps',\n",
       " 'free sink',\n",
       " 'free fill dirt',\n",
       " 'book case',\n",
       " 'car seat',\n",
       " 'old styrofoam cover  halloween or insulation ',\n",
       " 'amazing barbecue and shelf   ',\n",
       " 'ftee stuff  exercise bike  church doors  toilet',\n",
       " 'mdf wood    good for shelves',\n",
       " 'free dryer',\n",
       " 'ikea trundle bed',\n",
       " 'gray and black futon',\n",
       " 'free pallets ',\n",
       " 'free lawnmower  couch  chair washer  dryer',\n",
       " 'free wurlitzer piano',\n",
       " 'pile of free stuff',\n",
       " 'free firewood',\n",
       " 'curb alert free gas grill',\n",
       " 'free household stuff',\n",
       " 'free wooden cabinets ',\n",
       " '   tilapia need a new home',\n",
       " 'firewood',\n",
       " 'color tv    ',\n",
       " 'slide carousel trays  about   ',\n",
       " 'free crate  wood  pallets',\n",
       " 'couches   one loveseat and one antique couch',\n",
       " 'wood desk',\n",
       " 'black leather couch with pullout bed',\n",
       " 'free table and chairs',\n",
       " 'free fantasy ebook   black knight  awakening',\n",
       " 'free weslo treadmill',\n",
       " 'free queen mattress  pillow top ',\n",
       " 'curb alert  free solid hardwood entertainment center ne longmont',\n",
       " '    tv   free ',\n",
       " 'free couch   chocolate corduroy   reclining',\n",
       " 'free elliptical',\n",
       " 'curb alert',\n",
       " 'well loved crate and barrel couch',\n",
       " 'free   evaporative swamp cooler',\n",
       " 'gas bbq  patio table  planter pots',\n",
       " '     s twin bed frame and headboard free',\n",
       " 'fluroescant lamps',\n",
       " 'ducane americana gas grill',\n",
       " 'printer ink   hp   xl',\n",
       " 'fluorescent light ballasts with bulbs',\n",
       " 'moving boxes  including wardrobe boxes and hangers',\n",
       " 'mid century modern bathroom sink dove grey and fixtures',\n",
       " 'free smoker for parts or scrap',\n",
       " 'propane grill for parts or scrap',\n",
       " 'propane bbq',\n",
       " 'large executive desk',\n",
       " 'firewood   free',\n",
       " 'free dining table and chairs',\n",
       " 'looking for apples',\n",
       " 'free wood in longmont',\n",
       " 'free lawn mower   carburetor needs fixing',\n",
       " 'free cardboard bike box',\n",
       " 'beautiful yard or garden bush shrub',\n",
       " 'hangers  lawn chairs  golf clubs  pots  pet gates etc   ',\n",
       " 'free patio furniture   cushions  dresser    lousiville',\n",
       " 'free mulch  approx     cu yrds',\n",
       " 'free wood chips from arborists',\n",
       " 'free   sandbox',\n",
       " 'free pullout sofa',\n",
       " 'queen size maple bedframe ',\n",
       " 'tarps   various size',\n",
       " 'free sofa chiar',\n",
       " '  seat sectional couch',\n",
       " 'free pet or feeder rat',\n",
       " 'fill dirt',\n",
       " 'packing boxes',\n",
       " 'officejet g   printer',\n",
       " 'horse jumps stolen while boarding',\n",
       " 'pool table',\n",
       " 'free river rock',\n",
       " 'i need a sherpa bag',\n",
       " 'stok charcoal grill',\n",
       " 'queen size maple bedframe ',\n",
       " 'comfortable executive office chair free',\n",
       " 'office chair w  firm back support',\n",
       " 'free  natural pine full size futon frame',\n",
       " 'free coco perlite',\n",
       " 'queen mattress',\n",
       " 'free couch',\n",
       " '  free chairs',\n",
       " 'scrap metal',\n",
       " 'very great free items',\n",
       " 'the queens couch and twin pull out',\n",
       " '  free logs for firewood  ',\n",
       " 'updated   office desks  tables  filing cabinets  other items',\n",
       " 'queen mattress and box spring',\n",
       " 'scrap metal',\n",
       " 'gently used love seat',\n",
       " 'lumber  building materials and more ',\n",
       " 'wooden desk with glass top',\n",
       " 'free  colorado red builders',\n",
       " 'free executive desk   credenza set',\n",
       " 'bathroom cabinet free',\n",
       " 'free bathroom items',\n",
       " 'free black recliner chair',\n",
       " 'free queen mattress and box springs plus frame   sets',\n",
       " 'tiny desk and   drawer file cabinet',\n",
       " 'sliding wooden closet doors',\n",
       " 'patio chairs free',\n",
       " 'marvel bar fridge under counter',\n",
       " 'free smoke detectors',\n",
       " 'free     x     casement window   privacy fence',\n",
       " 'black l shaped desk',\n",
       " 'butterfly milkweed seed pods',\n",
       " 'pur faucet water filter',\n",
       " 'mirror  s ',\n",
       " 'aspen head board',\n",
       " 'free    twin size mattresses and   twin size box spring',\n",
       " 'popcorn packaging',\n",
       " 'entertainment center',\n",
       " 'framed pics and art free',\n",
       " 'packing materials',\n",
       " 'horse tack available   free or by donations',\n",
       " 'working dishwasher',\n",
       " '      sunset  dwell  colorado home lifestyle magazines',\n",
       " 'free bathroom sink vanity',\n",
       " 'metal bi fold closet doors w  tracks',\n",
       " 'free firewood',\n",
       " 'moving tonight  help ',\n",
       " 'free patio chairs',\n",
       " 'lot of ketchup and mustard  opened ',\n",
       " 'queen bedframe   brown',\n",
       " 'free furniture etc',\n",
       " 'free   tons of cd dvd cases',\n",
       " 'free   cabinet for garage storage',\n",
       " '     double up poker machine    ',\n",
       " 'free firewood',\n",
       " 'frosted glass  l  shaped desk',\n",
       " 'free pumpkins',\n",
       " 'picture framing and storage table',\n",
       " 'kid s basketball hoop',\n",
       " 'awesome sofa with ottoman',\n",
       " 'cable modem  docsis   ',\n",
       " 'free fan',\n",
       " 'curb alert  three light lamp',\n",
       " 'free tattoo removal',\n",
       " 'king mattress',\n",
       " 'look out   weeping willow tree',\n",
       " 'free futon black pleather',\n",
       " 'free full size box spring',\n",
       " 'neat dresser needs love',\n",
       " 'headboard',\n",
       " 'free firewood',\n",
       " '     mitsubishi television',\n",
       " 'lg     flat screen tv',\n",
       " 'moving  free entertainment centers    st and meadow ct ',\n",
       " 'free     glass ceiling shades for flush mount light fixture',\n",
       " 'shipping   packing peanuts    large boxes',\n",
       " 'free firewood',\n",
       " 'captain chairs  mattress',\n",
       " 'ikea sofa  club chair   ottoman',\n",
       " 'free   gratis ',\n",
       " 'free couch',\n",
       " '   free    fluorescent light fixture',\n",
       " 'free pallets     furniture  firewood  pallet art    ',\n",
       " 'garden edging',\n",
       " 'free soil and pots',\n",
       " 'pullout couch matress',\n",
       " 'box spring and bedframe',\n",
       " 'everything free',\n",
       " 'free loveseat',\n",
       " 'curb alert   moving boxes  packing paper  bubble wrap',\n",
       " 'free moving boxes',\n",
       " 'refrigerator',\n",
       " 'foam floation',\n",
       " 'tons of free stuff',\n",
       " 'washer  needs cold h o sensor',\n",
       " 'free copy machine',\n",
       " 'model needed at zinke hair studio',\n",
       " 'plywood  recycling bins  etc   ',\n",
       " 'plantation blinds  curtain rods  light bar',\n",
       " 'kitchen cabinets',\n",
       " 'craft table',\n",
       " 'artificial christmas tree',\n",
       " 'treadmill',\n",
       " 'maytag washer dryer atlantis',\n",
       " 'moving boxes and packing papaer   free',\n",
       " 'free working tv',\n",
       " 'aspen trunks branches',\n",
       " 'green recliner sofa',\n",
       " 'scrap metal',\n",
       " 'free bmx',\n",
       " 'three ceiling fans',\n",
       " 'little tikes toy car   free',\n",
       " 'free muratec black toner for mfx     ',\n",
       " 'free pallets and wire wheels',\n",
       " 'free moving supplies',\n",
       " 'free wood',\n",
       " 'glass table top',\n",
       " 'help prevent suicide',\n",
       " 'moving boxes',\n",
       " 'free ace roto mold containers ',\n",
       " 'long necklaces',\n",
       " 'free slightly expired pantry food',\n",
       " 'white   drawer file cabinet',\n",
       " 'curb alert  free couch  w  pull out bed ',\n",
       " 'floral shop',\n",
       " 'large desk',\n",
       " '   free   infant bath tub by primo',\n",
       " 'free downed old growth cottonwood tree for furniture  firewood etc',\n",
       " 'free garden chair',\n",
       " 'used padded mailers',\n",
       " 'lots of good cardboard boxes',\n",
       " 'free compact florescent light bulbs  about   ',\n",
       " 'free clean newsprint moving packing paper',\n",
       " 'stainless steel whirlpool dish washer',\n",
       " 'fill dirt from yard',\n",
       " 'yellow geometric drapes or fabric',\n",
       " 'assorted incandescent light bulbs',\n",
       " 'free blue couch w  cover first come first serve',\n",
       " 'toilet',\n",
       " 'small couch',\n",
       " 'free chair',\n",
       " '     pieces of one inch pvc pipe new',\n",
       " 'dutailier glider chair',\n",
       " 'kind creations percolator ash catcher   free ',\n",
       " 'free mulch',\n",
       " 'moving boxes',\n",
       " 'free office dividing walls',\n",
       " 'flower shop moving   free decorative stuff  ',\n",
       " 'free rocks',\n",
       " 'free to curb',\n",
       " 'working ceiling fan   blades',\n",
       " 'free grills gas and charcoal',\n",
       " 'free stove',\n",
       " 'free futon   pine frame',\n",
       " 'free single girls bed',\n",
       " 'full size mattress  and frame  good condition  clean ',\n",
       " 'green leather couch',\n",
       " 'wood pallets',\n",
       " 'great furniture bed  couch  dresser  chair  table',\n",
       " 'free boxes and free kids toy shelf',\n",
       " 'handmade wooden projectboat    x   ',\n",
       " 'moving boxes and packing paper   unpacking today',\n",
       " 'queen size bed frame for solid head board and foot board',\n",
       " 'pine limbs  some green boughs for holiday',\n",
       " 'free rocks',\n",
       " 'beautiful large workshop cabinets',\n",
       " 'free cherry display cases ',\n",
       " 'free wood in longmont',\n",
       " 'pirate ship',\n",
       " 'small trampoline',\n",
       " 'free stuff',\n",
       " 'sport balls and other things',\n",
       " 'truck topper',\n",
       " 'old school sony trinitron     tv',\n",
       " 'pack of size xl depends',\n",
       " 'white cabinets',\n",
       " 'free wood chips   delivered',\n",
       " 'queen size box spring',\n",
       " 'office chairs',\n",
       " 'free cabinets',\n",
       " 'free desk',\n",
       " 'free  rolling storage cabinet',\n",
       " 'free moving boxes  packing paper and bubble wrap',\n",
       " 'free lights',\n",
       " 'scrap steel  free for effort',\n",
       " 'spent grains',\n",
       " 'boxes and stuffing for moving or shipping',\n",
       " 'big heavy desk for free',\n",
       " 'free lumber tarps',\n",
       " 'free bottles for project',\n",
       " 'couch',\n",
       " 'free old hull nice wood',\n",
       " 'entertainment center unit   free',\n",
       " 'coop and chickens',\n",
       " '  s metal cabinets   free',\n",
       " 'affectionate chocolate point burmese cat seeks quiet  kid free  pet free home  d',\n",
       " 'samsonite suit travel bag',\n",
       " 'desk  wood veneer    drawer',\n",
       " 'leather loveseat',\n",
       " 'free pallets',\n",
       " 'water ski',\n",
       " 'twin mattress  box spring and frame',\n",
       " 'colorado red rock small med large boulders',\n",
       " 'queen sleeper sofa   love seat',\n",
       " 'fully functional and clean toilet',\n",
       " 'free lg ventless dryer dlec   w',\n",
       " 'pick up truck bed liner',\n",
       " 'stainless steel sink  new dish washer      avocado sink  toilet',\n",
       " 'free couch',\n",
       " 'free crib at curb',\n",
       " 'approx     x      black and brown granite countertop   free',\n",
       " 'free pallets',\n",
       " 'beauty salon hair dryer chair from appx       s',\n",
       " 'free queen mattress',\n",
       " 'free tv    inch color',\n",
       " 'free moving boxes',\n",
       " 'utility sink curb alert',\n",
       " 'scrap metal',\n",
       " 'chair',\n",
       " 'charboil gas grill',\n",
       " 'full size bed frame no hardware',\n",
       " 'dresser   free   you carry out   haul away',\n",
       " 'free stuff we are moving',\n",
       " '  dining chairs',\n",
       " '    door',\n",
       " 'curb alert good free stuff ',\n",
       " 'almost new toilet',\n",
       " 'recliner couch',\n",
       " 'free    cichlids',\n",
       " '    hitachi projection t v ',\n",
       " 'gas cooktop    ',\n",
       " 'curb alert     need gone asap tools',\n",
       " 'koehler chrome bath faucet',\n",
       " 'free big office suite ',\n",
       " 'free samsung tv',\n",
       " 'boxes and pieces of plywood   oak',\n",
       " 'rolling carts  ',\n",
       " 'couch chair and coffee table',\n",
       " 'table and rocker',\n",
       " 'christmas tree',\n",
       " 'reptile tank and chair',\n",
       " 'wood trim',\n",
       " 'couch and loveseat',\n",
       " 'free moving boxes',\n",
       " 'curb alert   free chest freezer',\n",
       " 'free moving boxes',\n",
       " 'free charming old school retro sink',\n",
       " 'free moving boxes',\n",
       " 'bench seat ford van',\n",
       " 'free breakfast for the homeless',\n",
       " 'markers',\n",
       " 'free octagonal hot tub',\n",
       " 'free desk',\n",
       " 'free tv stand and book shelf',\n",
       " 'tv',\n",
       " 'free camera filters etc',\n",
       " 'truck bed liner for a dakota',\n",
       " 'bed liner',\n",
       " 'free blue rollout couch',\n",
       " 'railroad ties and dirt',\n",
       " 'bathroom sink  free',\n",
       " 'free queen size box spring',\n",
       " 'free old fashioned record player',\n",
       " 'free rocks',\n",
       " 'scrap metal',\n",
       " 'free moving boxes',\n",
       " 'lots of women s clothing',\n",
       " 'free moving boxes and packing paper',\n",
       " 'vintage stove  lawn mower  chair',\n",
       " 'older fence material approx truck bed total free ',\n",
       " 'garage table',\n",
       " 'tray of lettuce for pet feed  pending pickup',\n",
       " '  nice stereo units for free',\n",
       " 'bed liner',\n",
       " '     inch utv tires ',\n",
       " 'countertop and sink   light fixture',\n",
       " 'free firewood',\n",
       " 'free countertop with sink and light fixture',\n",
       " 'fabric pieces  free ',\n",
       " 'free red round tree rings',\n",
       " 'free coash',\n",
       " 'free red mulch',\n",
       " 'broken eliptical',\n",
       " 'chair',\n",
       " 'tote lids',\n",
       " 're free   laminate flooring  manitou springs ',\n",
       " 'free rugs',\n",
       " 'free working white refrigerator',\n",
       " 'free    inch big screen projection',\n",
       " 'pending sunday pick up       tubing tee connectors',\n",
       " 'coffee table free',\n",
       " 'pending pick up    decorative    watt bulbs for candelabra',\n",
       " 'hp black printer cartridge    ',\n",
       " 'free logs for firewood',\n",
       " 'curb alert  free stuff  come and get it ',\n",
       " 'free dirt',\n",
       " 'free marble slabs',\n",
       " 'curb alert   free couch',\n",
       " 'devil head halloween decoration',\n",
       " 'free firewood',\n",
       " 'large round mirror  on curb',\n",
       " 'curb alert',\n",
       " 'adjustable bed frame',\n",
       " 'scrap metal',\n",
       " 'southwestern hideabed',\n",
       " 'old barbershop chair base  heavy ',\n",
       " 'super comfy couch free ',\n",
       " 'wood chair',\n",
       " 'dining table  computer desks  tv table  chair',\n",
       " 'hauling away beds free ',\n",
       " 'free couch',\n",
       " 'patio chairs',\n",
       " 'boxes and packing paper',\n",
       " 'long box   packing materials',\n",
       " 'pleco approx    long',\n",
       " 'couch',\n",
       " 'sterio cabinet',\n",
       " 'kid kraft workbench',\n",
       " 'free dirt',\n",
       " 'free wood and pallets  must take all ',\n",
       " 'good wood and bad wood for free',\n",
       " 'free duck pond',\n",
       " 'free working big screen tv',\n",
       " 'free fire wood',\n",
       " 'tv with remote works',\n",
       " 'free waxing services monday  november  th',\n",
       " 'pallets',\n",
       " 'beer bottles  home brewing ',\n",
       " 'free pallets',\n",
       " 'free    ',\n",
       " 'free financial education  dinner',\n",
       " 'large desk',\n",
       " 'free wood',\n",
       " 'picket fence rails',\n",
       " 'free stuff for scrapper',\n",
       " 'couch hide away bed',\n",
       " 'free pallets  just come and pick up',\n",
       " 'cute floral loveseat',\n",
       " 'brown mulch',\n",
       " 'free furniture and other stuff',\n",
       " 'dishwasher free',\n",
       " 'yard clippings',\n",
       " 'cage and all',\n",
       " 'i need a carpenter to come build a table today    ',\n",
       " '   x    mobile home trailer',\n",
       " 'free firewood  in colorado springs',\n",
       " 'free      entertainment center   light oak',\n",
       " 'free         samsung tv',\n",
       " 'free     goldstar tv',\n",
       " 'free moving boxes',\n",
       " 'mattresses in front of garage  come get them ',\n",
       " 'free love seat southwestern style',\n",
       " 'free camp fire wood or for your fireplace',\n",
       " 'free wood scraps',\n",
       " '     chevy trailblazer engine',\n",
       " 'free firewood  u cut it  i supply the lift',\n",
       " 'dresser',\n",
       " 'curb alert   free wood pallets   woodmen and powers',\n",
       " 'free stuff  moving   ',\n",
       " 'free side by side fridge',\n",
       " '   yr red cedar',\n",
       " 'free scrap metal',\n",
       " 'memorex color tv      ',\n",
       " 'curb alert',\n",
       " 'left over halloween candy  individually packed ',\n",
       " 'free bathtub and toilet',\n",
       " 'anybody need a wendy s hat ',\n",
       " 'free mattress',\n",
       " 'free fire wood in midway area',\n",
       " 'free fire wood',\n",
       " 'free scrap metal water heater',\n",
       " 'frre couch double reclinera',\n",
       " 'free firewood',\n",
       " 'free green suede recliner',\n",
       " 'topeak baby toddler bike carrier',\n",
       " 'free stuff must take all',\n",
       " 'free pumpkins come visit us at cricket on dublin',\n",
       " 'pioneer sand',\n",
       " 'old siding',\n",
       " 'logs  firewood and mulch',\n",
       " 'wood',\n",
       " 'curb alert   free recliner  good condition',\n",
       " 'old wood from torn down fence',\n",
       " 'telephone poles',\n",
       " 'toyota  runner rear floor mat',\n",
       " 'free cereal',\n",
       " 'free   couch  chair  foot stool',\n",
       " 'stuff and things',\n",
       " 'apple wood',\n",
       " 'free firewood  scrap',\n",
       " 'piano',\n",
       " 'free couch and free luggage',\n",
       " 'moving boxes  baby gate',\n",
       " 'white couch',\n",
       " 'curb alert cleaning out garage',\n",
       " 'free pallets',\n",
       " 'free   cedar fence boards',\n",
       " 'free couch',\n",
       " 'used peanut fry oil bio diesel or bear trap bait',\n",
       " 'harvest party',\n",
       " 'free full size box spring',\n",
       " 'wedge table   hunter green plaid color',\n",
       " 'used deck wood and picket fence wood',\n",
       " 'solid wood dresser topper and a solid wood waterbed headboard',\n",
       " 'moving boxes',\n",
       " 'gaylords   large heavy card board boxes',\n",
       " 'free stuff    curb alert  ',\n",
       " 'display case',\n",
       " 'thomas organ',\n",
       " 'curb alert ',\n",
       " 'curb alert',\n",
       " 'free recliner',\n",
       " 'telephone pole pieces',\n",
       " 'yard swinging seat',\n",
       " 'free treadmill',\n",
       " 'free stuff',\n",
       " 'working projection tv',\n",
       " 'gas dryer',\n",
       " 'television     rca',\n",
       " '  queen air beds',\n",
       " 'free moving boxes',\n",
       " 'bank bar or storage',\n",
       " 'free recliner',\n",
       " 'patio table',\n",
       " 'free fence wood',\n",
       " 'free  need gone asap',\n",
       " 'free shredded paper for mulch or composting',\n",
       " 'free paletts  just come get them ',\n",
       " 'couch',\n",
       " 'free refridgerator',\n",
       " 'tread mill',\n",
       " 'moving boxes  seriously  we have tons ',\n",
       " 'curb alert  free proform recumbent exercise bike with weight rack',\n",
       " 'free items',\n",
       " '  free stuff at curb   ',\n",
       " 'free slightly damaged chair w foot rest',\n",
       " 'curb alert free full matress and box springs',\n",
       " 'free concrete sand',\n",
       " 'leather couch',\n",
       " 'interior door',\n",
       " 'free boxes and packing paper',\n",
       " '   free doors',\n",
       " 'free table',\n",
       " 'free fill dirt',\n",
       " 'free recliner and two seat couch   ',\n",
       " 'nepro nutrition on dialysis  ',\n",
       " 'does anyone still scrap metal  ',\n",
       " 'free dirt',\n",
       " 'free fantasy ebook   black knight  awakening ',\n",
       " 'free wood fenceing',\n",
       " 'free chairs  computer monitor  screen storm door  mirror  pillows',\n",
       " 'non adjustable walker',\n",
       " 'building bricks',\n",
       " 'moving out',\n",
       " 'wicker patio or coffee table',\n",
       " 'free   maternity tank top for jan     ',\n",
       " 'concrete pieces for fill',\n",
       " 'blue loveseat',\n",
       " 'old toshiba rear screen projection tv',\n",
       " 'free free free com and get',\n",
       " 'desk  free ',\n",
       " 'household kids stuff',\n",
       " 'update  curb alert  celica gt only back seats left',\n",
       " 'free loveseat couch',\n",
       " 'free pallets',\n",
       " 'scrap metal',\n",
       " 'free projection tv',\n",
       " '  dead tree disposal needed ',\n",
       " 'free moving boxes   all sizes  wardrobe boxes  packing paper etc',\n",
       " 'free corner desk',\n",
       " 'free metal flag pole and   coolers',\n",
       " '  tomato cages',\n",
       " 'free dodge grand caravan bench seat',\n",
       " 'raw fed dogs   freezer cleanout request',\n",
       " 'kids toys kids shoes clothes household items',\n",
       " 'pool table',\n",
       " 'fire wood',\n",
       " 'free stuff    curb alert  ',\n",
       " 'free grill',\n",
       " 'big pile of wood pieces',\n",
       " 'free   you load and haul   broken piecess of concrete',\n",
       " 'curb alert',\n",
       " 'free branches',\n",
       " 'used  complete  reusable  old cedar fence sections   or fire wood ',\n",
       " 'curb alert  ',\n",
       " 'must go ',\n",
       " 'antique upright grand piano',\n",
       " 'free mulch  approx     cu yrds',\n",
       " 'free couch',\n",
       " 'sofa',\n",
       " 'moving boxes and packing paper',\n",
       " 'free projection tvs  non working ',\n",
       " 'chairs',\n",
       " 'trampoline with bent frame',\n",
       " 'desk wicker',\n",
       " 'natuzzi leather couch',\n",
       " 'clean fill dirt      cubic feet ',\n",
       " 'concrete chunks for fill',\n",
       " 'random stuff free',\n",
       " 'large sturdy cardboard box  double on sides ',\n",
       " 'free pallets great shape   first come first serve',\n",
       " 'pallet',\n",
       " 'wine bottles',\n",
       " 'pallet',\n",
       " 'free commercial tanning bed',\n",
       " 'curb alert  couch  bathroom vanity etc',\n",
       " 'twin mattress',\n",
       " 'looking for apollo s siblings   ',\n",
       " 'free hot tub',\n",
       " 'free fire wood   ready to burn',\n",
       " 'baby food',\n",
       " 'used tires for raised beds  earthships  etc    delivered',\n",
       " 'couch and other household items',\n",
       " 'free pallets',\n",
       " 'waxed organic produce boxes washed',\n",
       " 'furniture',\n",
       " '  piece sectional',\n",
       " 'scrap air conditioning unit',\n",
       " 'wood free ',\n",
       " 'king size mattess',\n",
       " 'free healthy weight loss   recipe and meal guide',\n",
       " 'free couches and coffee table',\n",
       " 'free full size mattress  couch and loveseat',\n",
       " 'free love seat couch sectional',\n",
       " 'good year tires and rims',\n",
       " 'asphalt squares',\n",
       " 'brick molding',\n",
       " 'free   piece sectional',\n",
       " 'free electric stove and hood',\n",
       " 'curb alert    ',\n",
       " 'free furniture',\n",
       " 'free entertainment stand',\n",
       " 'free boxes and packing supplies',\n",
       " 'free sleeper sofa',\n",
       " 'guy who got weilder weight machine',\n",
       " 'free vintage solid wood door with hardware',\n",
       " '   bath counter top',\n",
       " 'fire wood or project wood',\n",
       " 'free stuff misc',\n",
       " 'free scrap metal',\n",
       " 'free couch',\n",
       " 'curb alert',\n",
       " 'free comfy chair',\n",
       " 'firewood',\n",
       " 'loveseat',\n",
       " 'sofa   free',\n",
       " 'non working dishwasher',\n",
       " 'cash machine  metal shelves ',\n",
       " 'free playground or garden edging',\n",
       " 'roosters',\n",
       " 'free   piece sectional',\n",
       " ' curb alert semi truck seat metal frame',\n",
       " 'free  chairs gone',\n",
       " 'free couch   leather chair',\n",
       " 'office furniture',\n",
       " 'free concrete fill and firewood',\n",
       " 'free scrap wood',\n",
       " 'tv table chairs',\n",
       " 'above sink mirror',\n",
       " 'cabinet',\n",
       " 'love seat and desk chair',\n",
       " 'concrete',\n",
       " 'free for scrap or to fix and use',\n",
       " 'alpaca and llama fertilizer',\n",
       " 'free horse manure',\n",
       " 'free couch sofa',\n",
       " 'chairs   table',\n",
       " 'real wood',\n",
       " 'curb alert',\n",
       " 'small sectional',\n",
       " 'free dead trees',\n",
       " 'free dirt',\n",
       " 'free half pipe pick it up and it s yours',\n",
       " 'book case   shelve',\n",
       " 'free wood',\n",
       " 'free formula peptamen junior formula',\n",
       " 'pool pump',\n",
       " 'air mattress',\n",
       " 'moving boxes   i want them out of my house ',\n",
       " 'plywood',\n",
       " 'construction safety equipment',\n",
       " 'sleeper couch free',\n",
       " 'free swivel tv stand cabinet',\n",
       " 'recliner',\n",
       " 'curb alert lane chair',\n",
       " 'curb alert',\n",
       " 'free couch   loveseat',\n",
       " 'free loveseat',\n",
       " 'vintage tires       b   curb alert',\n",
       " 'free pallets and stuff in the alley',\n",
       " 'free  white vanity base',\n",
       " 'scrap metal ',\n",
       " 'natures touch swing',\n",
       " 'metal',\n",
       " 'free topsoil',\n",
       " 'free fire wood',\n",
       " 'pallets   free',\n",
       " 'free',\n",
       " 'free dry wall shims',\n",
       " 'couch',\n",
       " 'free pallets great shape',\n",
       " 'free moving boxes',\n",
       " 'whirlpool washer',\n",
       " 'free pantry food items porch pickup',\n",
       " 'free fire wood',\n",
       " 'fill dirt for free',\n",
       " 'free floor boards',\n",
       " 'paper roll       l  x         diameter ',\n",
       " 'couch',\n",
       " 'free fill dirt will help load',\n",
       " '  dining room chairs   free',\n",
       " 'little tykes fisher price  outdoor toy parts',\n",
       " 'free couch  one cushion messed up ',\n",
       " 'lazy boy recliners',\n",
       " 'free cabinets',\n",
       " 'office chair',\n",
       " 'iso couch or bean bag chair',\n",
       " 'curb alert',\n",
       " 'free recliner sofa couch',\n",
       " 'curb alert  recliner',\n",
       " 'hauling',\n",
       " 'free to a good home',\n",
       " 'free sticks  brush  etc ',\n",
       " 'building a table',\n",
       " 'free used motor oil     gallons',\n",
       " 'free fill dirt',\n",
       " 'directtv dish',\n",
       " 'free stuff on curb',\n",
       " 'free',\n",
       " 'free tv',\n",
       " 'looking for a metal satellite dish',\n",
       " 'couches',\n",
       " 'couch and love seat with cat scratch damage',\n",
       " '   curb alert free sofa sleeper couch   ',\n",
       " 'free everything must go    ',\n",
       " 'free things',\n",
       " 'free weber bbq  toddler climbing cube  boxes of       month boy clothes',\n",
       " 'free loveseat',\n",
       " 'free couch free sofa free sofa couch you pick up',\n",
       " 'free chairs  wobbly ',\n",
       " 'boston red sox baseball hat',\n",
       " 'u haul it  u keep it  free',\n",
       " 'need it gone tonight',\n",
       " 'moving boxes and packaging paper',\n",
       " 'free stuff on curb',\n",
       " 'free sofa and loveseat',\n",
       " 'free sectional',\n",
       " 'curb alert',\n",
       " 'free moving boxes',\n",
       " 'two tvs for free',\n",
       " 'curb alert   only today',\n",
       " 'heavy metal door',\n",
       " 'scrap wood lumber',\n",
       " 'everything free garage sale',\n",
       " 'leather couch   sofa sleeper curb alert',\n",
       " 'well loved couch and love seat',\n",
       " 'wood',\n",
       " 'wanted dry bagged leaves',\n",
       " 'free pine firewood',\n",
       " 'free side by side fridge  not working',\n",
       " 'concrete tube',\n",
       " 'barbed wire fencing',\n",
       " 'free purple blooming cactus',\n",
       " 'tires',\n",
       " 'free fill dirt ',\n",
       " 'curb alert   swing set  and more',\n",
       " 'fire wood',\n",
       " 'fire wood   free all sorts',\n",
       " 'charcoal grill',\n",
       " 'tomato cages',\n",
       " 'precor treadmill',\n",
       " 'free firewood   cottonwood',\n",
       " 'window glass and guinea pig ball',\n",
       " 'hot tub',\n",
       " 'free sofa',\n",
       " 'curb alert free scrap metal ',\n",
       " 'free stump for firewood',\n",
       " 'free loveseat',\n",
       " 'free micro fiber couch  read add sitting in driveway come get it',\n",
       " 'black couch',\n",
       " 'tv with vcr built in',\n",
       " 'queen mattress',\n",
       " 'free   piece white sectional',\n",
       " 'charcoal grill',\n",
       " 'computer monitor',\n",
       " 'free old tires',\n",
       " 'free table',\n",
       " 'curb alert   used recliner',\n",
       " 'concrete chunks',\n",
       " 'firewood',\n",
       " '  solid  heavy desks   free',\n",
       " 'cold days coming  free scrap wood for firewood',\n",
       " 'airplane spider plant babies',\n",
       " 'free wood',\n",
       " 'garage shelving free',\n",
       " 'wood pallets   free',\n",
       " 'front door   frame',\n",
       " 'free   dining table',\n",
       " ...]"
      ]
     },
     "execution_count": 19,
     "metadata": {},
     "output_type": "execute_result"
    }
   ],
   "source": [
    "final_titles_list"
   ]
  },
  {
   "cell_type": "code",
   "execution_count": 20,
   "metadata": {
    "collapsed": false
   },
   "outputs": [
    {
     "name": "stdout",
     "output_type": "stream",
     "text": [
      "['i', 'me', 'my', 'myself', 'we', 'our', 'ours', 'ourselves', 'you', 'your', 'yours', 'yourself', 'yourselves', 'he', 'him', 'his', 'himself', 'she', 'her', 'hers', 'herself', 'it', 'its', 'itself', 'they', 'them', 'their', 'theirs', 'themselves', 'what', 'which', 'who', 'whom', 'this', 'that', 'these', 'those', 'am', 'is', 'are', 'was', 'were', 'be', 'been', 'being', 'have', 'has', 'had', 'having', 'do', 'does', 'did', 'doing', 'a', 'an', 'the', 'and', 'but', 'if', 'or', 'because', 'as', 'until', 'while', 'of', 'at', 'by', 'for', 'with', 'about', 'against', 'between', 'into', 'through', 'during', 'before', 'after', 'above', 'below', 'to', 'from', 'up', 'down', 'in', 'out', 'on', 'off', 'over', 'under', 'again', 'further', 'then', 'once', 'here', 'there', 'when', 'where', 'why', 'how', 'all', 'any', 'both', 'each', 'few', 'more', 'most', 'other', 'some', 'such', 'no', 'nor', 'not', 'only', 'own', 'same', 'so', 'than', 'too', 'very', 's', 't', 'can', 'will', 'just', 'don', 'should', 'now', 'd', 'll', 'm', 'o', 're', 've', 'y', 'ain', 'aren', 'couldn', 'didn', 'doesn', 'hadn', 'hasn', 'haven', 'isn', 'ma', 'mightn', 'mustn', 'needn', 'shan', 'shouldn', 'wasn', 'weren', 'won', 'wouldn', 'free']\n"
     ]
    }
   ],
   "source": [
    "#Create custom stop word list\n",
    "stoplist = stopwords.words('english')\n",
    "stoplist.append('free')\n",
    "print(stoplist)"
   ]
  },
  {
   "cell_type": "markdown",
   "metadata": {},
   "source": [
    "## Data Analysis"
   ]
  },
  {
   "cell_type": "markdown",
   "metadata": {},
   "source": [
    "Most of the initial data analysis was regarding the shape of the words and their associated counts.  More advanced analysis will require unsupervised machine learning models to be created. \n"
   ]
  },
  {
   "cell_type": "code",
   "execution_count": 21,
   "metadata": {
    "collapsed": false
   },
   "outputs": [],
   "source": [
    "# Initialize the \"CountVectorizer\" object, which is scikit-learn's\n",
    "# bag of words tool.  \n",
    "vectorizer = CountVectorizer(analyzer = \"word\",   \\\n",
    "                             tokenizer = None,    \\\n",
    "                             preprocessor = None, \\\n",
    "                             stop_words = stoplist) \n",
    "\n",
    "# fit_transform() does two functions: First, it fits the model\n",
    "# and learns the vocabulary; second, it transforms our training data\n",
    "# into feature vectors. The input to fit_transform should be a list of \n",
    "# strings.\n",
    "train_data_features = vectorizer.fit_transform(final_titles_list)\n",
    "\n",
    "# Numpy arrays are easy to work with, so convert the result to an \n",
    "# array\n",
    "train_data_features = train_data_features.toarray()"
   ]
  },
  {
   "cell_type": "code",
   "execution_count": 22,
   "metadata": {
    "collapsed": false
   },
   "outputs": [],
   "source": [
    "# Take a look at the words in the vocabulary\n",
    "vocab = vectorizer.get_feature_names()\n",
    "#print(vocab)\n",
    "\n",
    "# Sum up the counts of each vocabulary word\n",
    "dist = np.sum(train_data_features, axis=0)"
   ]
  },
  {
   "cell_type": "code",
   "execution_count": 23,
   "metadata": {
    "collapsed": false
   },
   "outputs": [],
   "source": [
    "# Create pandas dataframe with words and counts for analysis\n",
    "master_list = pd.DataFrame(\n",
    "    {'Word': vocab,\n",
    "     'Count': dist,\n",
    "    })"
   ]
  },
  {
   "cell_type": "code",
   "execution_count": 24,
   "metadata": {
    "collapsed": false
   },
   "outputs": [
    {
     "data": {
      "text/html": [
       "<div>\n",
       "<table border=\"1\" class=\"dataframe\">\n",
       "  <thead>\n",
       "    <tr style=\"text-align: right;\">\n",
       "      <th></th>\n",
       "      <th>Count</th>\n",
       "      <th>Word</th>\n",
       "    </tr>\n",
       "  </thead>\n",
       "  <tbody>\n",
       "    <tr>\n",
       "      <th>2540</th>\n",
       "      <td>274</td>\n",
       "      <td>wood</td>\n",
       "    </tr>\n",
       "    <tr>\n",
       "      <th>535</th>\n",
       "      <td>267</td>\n",
       "      <td>couch</td>\n",
       "    </tr>\n",
       "    <tr>\n",
       "      <th>2388</th>\n",
       "      <td>160</td>\n",
       "      <td>tv</td>\n",
       "    </tr>\n",
       "    <tr>\n",
       "      <th>250</th>\n",
       "      <td>143</td>\n",
       "      <td>boxes</td>\n",
       "    </tr>\n",
       "    <tr>\n",
       "      <th>383</th>\n",
       "      <td>132</td>\n",
       "      <td>chair</td>\n",
       "    </tr>\n",
       "    <tr>\n",
       "      <th>656</th>\n",
       "      <td>125</td>\n",
       "      <td>dirt</td>\n",
       "    </tr>\n",
       "    <tr>\n",
       "      <th>1581</th>\n",
       "      <td>121</td>\n",
       "      <td>pallets</td>\n",
       "    </tr>\n",
       "    <tr>\n",
       "      <th>579</th>\n",
       "      <td>121</td>\n",
       "      <td>curb</td>\n",
       "    </tr>\n",
       "    <tr>\n",
       "      <th>1461</th>\n",
       "      <td>115</td>\n",
       "      <td>moving</td>\n",
       "    </tr>\n",
       "    <tr>\n",
       "      <th>1940</th>\n",
       "      <td>113</td>\n",
       "      <td>scrap</td>\n",
       "    </tr>\n",
       "  </tbody>\n",
       "</table>\n",
       "</div>"
      ],
      "text/plain": [
       "      Count     Word\n",
       "2540    274     wood\n",
       "535     267    couch\n",
       "2388    160       tv\n",
       "250     143    boxes\n",
       "383     132    chair\n",
       "656     125     dirt\n",
       "1581    121  pallets\n",
       "579     121     curb\n",
       "1461    115   moving\n",
       "1940    113    scrap"
      ]
     },
     "execution_count": 24,
     "metadata": {},
     "output_type": "execute_result"
    }
   ],
   "source": [
    "master_list.sort_values(by='Count', ascending=False).head(10)"
   ]
  },
  {
   "cell_type": "code",
   "execution_count": 25,
   "metadata": {
    "collapsed": false
   },
   "outputs": [
    {
     "data": {
      "text/html": [
       "<div>\n",
       "<table border=\"1\" class=\"dataframe\">\n",
       "  <thead>\n",
       "    <tr style=\"text-align: right;\">\n",
       "      <th></th>\n",
       "      <th>Count</th>\n",
       "      <th>Word</th>\n",
       "    </tr>\n",
       "  </thead>\n",
       "  <tbody>\n",
       "    <tr>\n",
       "      <th>0</th>\n",
       "      <td>1</td>\n",
       "      <td>ability</td>\n",
       "    </tr>\n",
       "    <tr>\n",
       "      <th>1504</th>\n",
       "      <td>1</td>\n",
       "      <td>newspaper</td>\n",
       "    </tr>\n",
       "    <tr>\n",
       "      <th>1502</th>\n",
       "      <td>1</td>\n",
       "      <td>newer</td>\n",
       "    </tr>\n",
       "    <tr>\n",
       "      <th>1499</th>\n",
       "      <td>1</td>\n",
       "      <td>neutral</td>\n",
       "    </tr>\n",
       "    <tr>\n",
       "      <th>1498</th>\n",
       "      <td>1</td>\n",
       "      <td>network</td>\n",
       "    </tr>\n",
       "    <tr>\n",
       "      <th>1497</th>\n",
       "      <td>1</td>\n",
       "      <td>net</td>\n",
       "    </tr>\n",
       "    <tr>\n",
       "      <th>1496</th>\n",
       "      <td>1</td>\n",
       "      <td>nepro</td>\n",
       "    </tr>\n",
       "    <tr>\n",
       "      <th>1493</th>\n",
       "      <td>1</td>\n",
       "      <td>needing</td>\n",
       "    </tr>\n",
       "    <tr>\n",
       "      <th>1490</th>\n",
       "      <td>1</td>\n",
       "      <td>necklaces</td>\n",
       "    </tr>\n",
       "    <tr>\n",
       "      <th>1489</th>\n",
       "      <td>1</td>\n",
       "      <td>nec</td>\n",
       "    </tr>\n",
       "  </tbody>\n",
       "</table>\n",
       "</div>"
      ],
      "text/plain": [
       "      Count       Word\n",
       "0         1    ability\n",
       "1504      1  newspaper\n",
       "1502      1      newer\n",
       "1499      1    neutral\n",
       "1498      1    network\n",
       "1497      1        net\n",
       "1496      1      nepro\n",
       "1493      1    needing\n",
       "1490      1  necklaces\n",
       "1489      1        nec"
      ]
     },
     "execution_count": 25,
     "metadata": {},
     "output_type": "execute_result"
    }
   ],
   "source": [
    "master_list.sort_values(by='Count', ascending=True).head(10)"
   ]
  },
  {
   "cell_type": "code",
   "execution_count": 27,
   "metadata": {
    "collapsed": false
   },
   "outputs": [
    {
     "data": {
      "text/plain": [
       "<matplotlib.axes._subplots.AxesSubplot at 0x1183003c8>"
      ]
     },
     "execution_count": 27,
     "metadata": {},
     "output_type": "execute_result"
    },
    {
     "data": {
      "image/png": "[encoded data removed]",
      "text/plain": [
       "<matplotlib.figure.Figure at 0x11d1929e8>"
      ]
     },
     "metadata": {},
     "output_type": "display_data"
    }
   ],
   "source": [
    "sns.distplot(master_list['Count'])"
   ]
  },
  {
   "cell_type": "code",
   "execution_count": 28,
   "metadata": {
    "collapsed": false
   },
   "outputs": [
    {
     "data": {
      "text/plain": [
       "<matplotlib.axes._subplots.AxesSubplot at 0x11d1927b8>"
      ]
     },
     "execution_count": 28,
     "metadata": {},
     "output_type": "execute_result"
    },
    {
     "data": {
      "image/png": "[encoded data removed]",
      "text/plain": [
       "<matplotlib.figure.Figure at 0x11d38ef98>"
      ]
     },
     "metadata": {},
     "output_type": "display_data"
    }
   ],
   "source": [
    "sns.distplot(master_list[master_list['Count'] < 5]['Count'])"
   ]
  },
  {
   "cell_type": "code",
   "execution_count": 29,
   "metadata": {
    "collapsed": false
   },
   "outputs": [
    {
     "data": {
      "text/plain": [
       "count    2585.000000\n",
       "mean        4.517602\n",
       "std        13.473507\n",
       "min         1.000000\n",
       "25%         1.000000\n",
       "50%         1.000000\n",
       "75%         3.000000\n",
       "max       274.000000\n",
       "Name: Count, dtype: float64"
      ]
     },
     "execution_count": 29,
     "metadata": {},
     "output_type": "execute_result"
    }
   ],
   "source": [
    "master_list['Count'].describe()"
   ]
  },
  {
   "cell_type": "code",
   "execution_count": 30,
   "metadata": {
    "collapsed": false
   },
   "outputs": [
    {
     "data": {
      "text/plain": [
       "count    2122.000000\n",
       "mean        1.473139\n",
       "std         0.825960\n",
       "min         1.000000\n",
       "25%         1.000000\n",
       "50%         1.000000\n",
       "75%         2.000000\n",
       "max         4.000000\n",
       "Name: Count, dtype: float64"
      ]
     },
     "execution_count": 30,
     "metadata": {},
     "output_type": "execute_result"
    }
   ],
   "source": [
    "master_list[master_list['Count'] < 5]['Count'].describe()"
   ]
  },
  {
   "cell_type": "code",
   "execution_count": 31,
   "metadata": {
    "collapsed": false
   },
   "outputs": [
    {
     "data": {
      "text/plain": [
       "count    463.000000\n",
       "mean      18.470842\n",
       "std       27.830243\n",
       "min        5.000000\n",
       "25%        6.000000\n",
       "50%       10.000000\n",
       "75%       18.500000\n",
       "max      274.000000\n",
       "Name: Count, dtype: float64"
      ]
     },
     "execution_count": 31,
     "metadata": {},
     "output_type": "execute_result"
    }
   ],
   "source": [
    "master_list[master_list['Count'] >= 5]['Count'].describe()"
   ]
  },
  {
   "cell_type": "code",
   "execution_count": 32,
   "metadata": {
    "collapsed": false
   },
   "outputs": [
    {
     "data": {
      "text/plain": [
       "<matplotlib.axes._subplots.AxesSubplot at 0x11d47a358>"
      ]
     },
     "execution_count": 32,
     "metadata": {},
     "output_type": "execute_result"
    },
    {
     "data": {
      "image/png": "[encoded data removed]",
      "text/plain": [
       "<matplotlib.figure.Figure at 0x11d4bbef0>"
      ]
     },
     "metadata": {},
     "output_type": "display_data"
    }
   ],
   "source": [
    "sns.distplot(master_list[master_list['Count'] >= 5]['Count'])"
   ]
  },
  {
   "cell_type": "code",
   "execution_count": 33,
   "metadata": {
    "collapsed": false
   },
   "outputs": [
    {
     "data": {
      "text/plain": [
       "count    1483.0\n",
       "mean        1.0\n",
       "std         0.0\n",
       "min         1.0\n",
       "25%         1.0\n",
       "50%         1.0\n",
       "75%         1.0\n",
       "max         1.0\n",
       "Name: Count, dtype: float64"
      ]
     },
     "execution_count": 33,
     "metadata": {},
     "output_type": "execute_result"
    }
   ],
   "source": [
    "master_list[master_list['Count'] == 1]['Count'].describe()"
   ]
  },
  {
   "cell_type": "code",
   "execution_count": null,
   "metadata": {
    "collapsed": true
   },
   "outputs": [],
   "source": []
  },
  {
   "cell_type": "code",
   "execution_count": null,
   "metadata": {
    "collapsed": true
   },
   "outputs": [],
   "source": []
  },
  {
   "cell_type": "code",
   "execution_count": null,
   "metadata": {
    "collapsed": true
   },
   "outputs": [],
   "source": []
  },
  {
   "cell_type": "code",
   "execution_count": null,
   "metadata": {
    "collapsed": true
   },
   "outputs": [],
   "source": []
  },
  {
   "cell_type": "code",
   "execution_count": null,
   "metadata": {
    "collapsed": true
   },
   "outputs": [],
   "source": []
  },
  {
   "cell_type": "code",
   "execution_count": null,
   "metadata": {
    "collapsed": true
   },
   "outputs": [],
   "source": []
  }
 ],
 "metadata": {
  "kernelspec": {
   "display_name": "Python 3",
   "language": "python",
   "name": "python3"
  },
  "language_info": {
   "codemirror_mode": {
    "name": "ipython",
    "version": 3
   },
   "file_extension": ".py",
   "mimetype": "text/x-python",
   "name": "python",
   "nbconvert_exporter": "python",
   "pygments_lexer": "ipython3",
   "version": "3.6.1"
  }
 },
 "nbformat": 4,
 "nbformat_minor": 0
}
